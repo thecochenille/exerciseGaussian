{
 "cells": [
  {
   "cell_type": "markdown",
   "id": "44f44797-119b-4a78-ab2c-032ff4dc8b08",
   "metadata": {},
   "source": [
    "# Data Scientist exercice "
   ]
  },
  {
   "cell_type": "markdown",
   "id": "b7bb0353-e896-44fc-a14d-d3cfa81135ba",
   "metadata": {},
   "source": [
    "### Written by Isabelle Vea\n",
    "\n",
    "Time taken: ~2h with app creation"
   ]
  },
  {
   "cell_type": "markdown",
   "id": "053b642c-0b5b-4303-8f99-5de299c79919",
   "metadata": {},
   "source": [
    "### Approach to solve this exercise\n",
    "To find the minimum sample size needed to obtain a normal distribution for the sampled average numbers of neighbors, I followed the following steps:\n",
    "\n",
    "- calculate for each one dimension coordinate the minimum and maximum values given by the radius. Since we have one dimension, it is going to be a range of numbers.\n",
    "\n",
    "- for each coordinate and range based on the radius, I count how many values in the coordinate list are within that range and store the number for each coordinate\n",
    "\n",
    "Once I have these numbers, I can start looking at how sampling number affects the final boostrap distribution.\n",
    "\n",
    "\n",
    "- I write a code that randomly samples n numbers of coordinate and take the counts within my radius and average the counts. I boostrap it for a total of 1000 replicates, each mean is collected into a list.\n",
    "\n",
    "- I plot the means collected into an histogram and build a qqplot to visualize the distribution. I also decided to use. statistical test (Shapiro-Wilk normality test to test if the distribution is normal).\n",
    "\n",
    "- Then I visualize just as a proof of concept how the distribution looks like with a very small sample size (n=3) and a ver large one (n=100).\n",
    "\n",
    "- I should see that with a large sample size, the boostrap distribution tends to follow a normal distribution. I can also use the streamlit app I have build to visualiza the range the sampling number where the minimum number for a normal distribution lie.\n",
    "\n",
    "- My next step is to find a way to identify what sample size will give a normal distribution. In that case I run bootstraps for a range of sampling number I established base on my previous visualization, and run the normality test for each of them and store the p-values.\n",
    "\n",
    "- I plot the p-values (y) against (sampling number) and decide on my p-value threshold. This will give me the minimum sample size that will lead to a boostrap distribution considered as Gaussian.\n"
   ]
  },
  {
   "cell_type": "code",
   "execution_count": 163,
   "id": "d0515785-de3d-4ca4-b82e-3f681e930d3a",
   "metadata": {
    "execution": {
     "iopub.execute_input": "2023-11-09T16:28:48.375010Z",
     "iopub.status.busy": "2023-11-09T16:28:48.373736Z",
     "iopub.status.idle": "2023-11-09T16:28:48.384594Z",
     "shell.execute_reply": "2023-11-09T16:28:48.383992Z",
     "shell.execute_reply.started": "2023-11-09T16:28:48.374940Z"
    },
    "tags": []
   },
   "outputs": [],
   "source": [
    "#libraries\n",
    "import numpy as np\n",
    "import pandas as pd\n",
    "import matplotlib.pyplot as plt\n",
    "from scipy import stats\n",
    "\n",
    "import random\n",
    "import math"
   ]
  },
  {
   "cell_type": "code",
   "execution_count": 29,
   "id": "af200b91-eb67-4035-8cca-052f3bd1c6c6",
   "metadata": {
    "execution": {
     "iopub.execute_input": "2023-11-09T15:12:10.650444Z",
     "iopub.status.busy": "2023-11-09T15:12:10.649765Z",
     "iopub.status.idle": "2023-11-09T15:12:10.673337Z",
     "shell.execute_reply": "2023-11-09T15:12:10.672870Z",
     "shell.execute_reply.started": "2023-11-09T15:12:10.650399Z"
    },
    "tags": []
   },
   "outputs": [
    {
     "data": {
      "text/html": [
       "<div>\n",
       "<style scoped>\n",
       "    .dataframe tbody tr th:only-of-type {\n",
       "        vertical-align: middle;\n",
       "    }\n",
       "\n",
       "    .dataframe tbody tr th {\n",
       "        vertical-align: top;\n",
       "    }\n",
       "\n",
       "    .dataframe thead th {\n",
       "        text-align: right;\n",
       "    }\n",
       "</style>\n",
       "<table border=\"1\" class=\"dataframe\">\n",
       "  <thead>\n",
       "    <tr style=\"text-align: right;\">\n",
       "      <th></th>\n",
       "      <th>x</th>\n",
       "    </tr>\n",
       "  </thead>\n",
       "  <tbody>\n",
       "    <tr>\n",
       "      <th>0</th>\n",
       "      <td>28.026608</td>\n",
       "    </tr>\n",
       "    <tr>\n",
       "      <th>1</th>\n",
       "      <td>1014.883103</td>\n",
       "    </tr>\n",
       "    <tr>\n",
       "      <th>2</th>\n",
       "      <td>13.928090</td>\n",
       "    </tr>\n",
       "    <tr>\n",
       "      <th>3</th>\n",
       "      <td>9.229389</td>\n",
       "    </tr>\n",
       "    <tr>\n",
       "      <th>4</th>\n",
       "      <td>1019.805279</td>\n",
       "    </tr>\n",
       "  </tbody>\n",
       "</table>\n",
       "</div>"
      ],
      "text/plain": [
       "             x\n",
       "0    28.026608\n",
       "1  1014.883103\n",
       "2    13.928090\n",
       "3     9.229389\n",
       "4  1019.805279"
      ]
     },
     "execution_count": 29,
     "metadata": {},
     "output_type": "execute_result"
    }
   ],
   "source": [
    "# Dataset\n",
    "data = pd.read_csv(\"dataset.csv\", header=None)\n",
    "data.rename(columns={0: 'x'}, inplace=True)\n",
    "data.head()"
   ]
  },
  {
   "cell_type": "code",
   "execution_count": 30,
   "id": "39b65147-6e07-4fc2-a592-0fdfdca6aac1",
   "metadata": {
    "execution": {
     "iopub.execute_input": "2023-11-09T15:12:11.018909Z",
     "iopub.status.busy": "2023-11-09T15:12:11.018201Z",
     "iopub.status.idle": "2023-11-09T15:12:11.033723Z",
     "shell.execute_reply": "2023-11-09T15:12:11.032717Z",
     "shell.execute_reply.started": "2023-11-09T15:12:11.018863Z"
    },
    "tags": []
   },
   "outputs": [
    {
     "data": {
      "text/html": [
       "<div>\n",
       "<style scoped>\n",
       "    .dataframe tbody tr th:only-of-type {\n",
       "        vertical-align: middle;\n",
       "    }\n",
       "\n",
       "    .dataframe tbody tr th {\n",
       "        vertical-align: top;\n",
       "    }\n",
       "\n",
       "    .dataframe thead th {\n",
       "        text-align: right;\n",
       "    }\n",
       "</style>\n",
       "<table border=\"1\" class=\"dataframe\">\n",
       "  <thead>\n",
       "    <tr style=\"text-align: right;\">\n",
       "      <th></th>\n",
       "      <th>x</th>\n",
       "    </tr>\n",
       "  </thead>\n",
       "  <tbody>\n",
       "    <tr>\n",
       "      <th>count</th>\n",
       "      <td>800.000000</td>\n",
       "    </tr>\n",
       "    <tr>\n",
       "      <th>mean</th>\n",
       "      <td>638.466539</td>\n",
       "    </tr>\n",
       "    <tr>\n",
       "      <th>std</th>\n",
       "      <td>480.331371</td>\n",
       "    </tr>\n",
       "    <tr>\n",
       "      <th>min</th>\n",
       "      <td>-9.362703</td>\n",
       "    </tr>\n",
       "    <tr>\n",
       "      <th>25%</th>\n",
       "      <td>29.317828</td>\n",
       "    </tr>\n",
       "    <tr>\n",
       "      <th>50%</th>\n",
       "      <td>1004.188078</td>\n",
       "    </tr>\n",
       "    <tr>\n",
       "      <th>75%</th>\n",
       "      <td>1012.072942</td>\n",
       "    </tr>\n",
       "    <tr>\n",
       "      <th>max</th>\n",
       "      <td>1019.887934</td>\n",
       "    </tr>\n",
       "  </tbody>\n",
       "</table>\n",
       "</div>"
      ],
      "text/plain": [
       "                 x\n",
       "count   800.000000\n",
       "mean    638.466539\n",
       "std     480.331371\n",
       "min      -9.362703\n",
       "25%      29.317828\n",
       "50%    1004.188078\n",
       "75%    1012.072942\n",
       "max    1019.887934"
      ]
     },
     "execution_count": 30,
     "metadata": {},
     "output_type": "execute_result"
    }
   ],
   "source": [
    "data.describe()"
   ]
  },
  {
   "cell_type": "code",
   "execution_count": null,
   "id": "b7f25938-59db-43b8-9a9e-869c4c9e2390",
   "metadata": {
    "tags": []
   },
   "outputs": [],
   "source": []
  },
  {
   "cell_type": "code",
   "execution_count": 35,
   "id": "1cbebd28-1d06-42db-a0df-02d90e4b56c1",
   "metadata": {
    "execution": {
     "iopub.execute_input": "2023-11-09T15:16:10.367437Z",
     "iopub.status.busy": "2023-11-09T15:16:10.366774Z",
     "iopub.status.idle": "2023-11-09T15:16:10.373666Z",
     "shell.execute_reply": "2023-11-09T15:16:10.372853Z",
     "shell.execute_reply.started": "2023-11-09T15:16:10.367389Z"
    },
    "tags": []
   },
   "outputs": [],
   "source": [
    "## calculate range of each coordinate within the radius =5\n",
    "r = 5\n",
    "\n",
    "def create_radius_range(df,radius):\n",
    "    ''' Adding and subtracting a radius value into the first column of the dataframe\n",
    "    Input: dataframe with at least mone column\n",
    "    Output: dataframe with column 'min' and 'max' added\n",
    "    '''\n",
    "    df['max'] = np.add(df['x'],radius)\n",
    "    df['min'] = np.subtract(df['x'],radius)\n",
    "    return df\n",
    "    "
   ]
  },
  {
   "cell_type": "code",
   "execution_count": 36,
   "id": "3ed5526b-20c2-4246-a661-58e7ed529897",
   "metadata": {
    "execution": {
     "iopub.execute_input": "2023-11-09T15:16:11.517476Z",
     "iopub.status.busy": "2023-11-09T15:16:11.516812Z",
     "iopub.status.idle": "2023-11-09T15:16:11.526162Z",
     "shell.execute_reply": "2023-11-09T15:16:11.525578Z",
     "shell.execute_reply.started": "2023-11-09T15:16:11.517430Z"
    },
    "tags": []
   },
   "outputs": [],
   "source": [
    "r = 5\n",
    "data_range = create_radius_range(data,r)"
   ]
  },
  {
   "cell_type": "code",
   "execution_count": 37,
   "id": "42b29816-e055-44d2-9349-70edaa2971e8",
   "metadata": {
    "execution": {
     "iopub.execute_input": "2023-11-09T15:16:22.429670Z",
     "iopub.status.busy": "2023-11-09T15:16:22.429162Z",
     "iopub.status.idle": "2023-11-09T15:16:22.442298Z",
     "shell.execute_reply": "2023-11-09T15:16:22.441516Z",
     "shell.execute_reply.started": "2023-11-09T15:16:22.429636Z"
    }
   },
   "outputs": [
    {
     "data": {
      "text/html": [
       "<div>\n",
       "<style scoped>\n",
       "    .dataframe tbody tr th:only-of-type {\n",
       "        vertical-align: middle;\n",
       "    }\n",
       "\n",
       "    .dataframe tbody tr th {\n",
       "        vertical-align: top;\n",
       "    }\n",
       "\n",
       "    .dataframe thead th {\n",
       "        text-align: right;\n",
       "    }\n",
       "</style>\n",
       "<table border=\"1\" class=\"dataframe\">\n",
       "  <thead>\n",
       "    <tr style=\"text-align: right;\">\n",
       "      <th></th>\n",
       "      <th>x</th>\n",
       "      <th>max</th>\n",
       "      <th>min</th>\n",
       "    </tr>\n",
       "  </thead>\n",
       "  <tbody>\n",
       "    <tr>\n",
       "      <th>0</th>\n",
       "      <td>28.026608</td>\n",
       "      <td>33.026608</td>\n",
       "      <td>23.026608</td>\n",
       "    </tr>\n",
       "    <tr>\n",
       "      <th>1</th>\n",
       "      <td>1014.883103</td>\n",
       "      <td>1019.883103</td>\n",
       "      <td>1009.883103</td>\n",
       "    </tr>\n",
       "    <tr>\n",
       "      <th>2</th>\n",
       "      <td>13.928090</td>\n",
       "      <td>18.928090</td>\n",
       "      <td>8.928090</td>\n",
       "    </tr>\n",
       "    <tr>\n",
       "      <th>3</th>\n",
       "      <td>9.229389</td>\n",
       "      <td>14.229389</td>\n",
       "      <td>4.229389</td>\n",
       "    </tr>\n",
       "    <tr>\n",
       "      <th>4</th>\n",
       "      <td>1019.805279</td>\n",
       "      <td>1024.805279</td>\n",
       "      <td>1014.805279</td>\n",
       "    </tr>\n",
       "  </tbody>\n",
       "</table>\n",
       "</div>"
      ],
      "text/plain": [
       "             x          max          min\n",
       "0    28.026608    33.026608    23.026608\n",
       "1  1014.883103  1019.883103  1009.883103\n",
       "2    13.928090    18.928090     8.928090\n",
       "3     9.229389    14.229389     4.229389\n",
       "4  1019.805279  1024.805279  1014.805279"
      ]
     },
     "execution_count": 37,
     "metadata": {},
     "output_type": "execute_result"
    }
   ],
   "source": [
    "data_range.head()"
   ]
  },
  {
   "cell_type": "code",
   "execution_count": 42,
   "id": "a7ef766a-7030-4566-a806-1ede30d21034",
   "metadata": {
    "execution": {
     "iopub.execute_input": "2023-11-09T15:20:39.502793Z",
     "iopub.status.busy": "2023-11-09T15:20:39.500985Z",
     "iopub.status.idle": "2023-11-09T15:20:39.528928Z",
     "shell.execute_reply": "2023-11-09T15:20:39.528093Z",
     "shell.execute_reply.started": "2023-11-09T15:20:39.502711Z"
    }
   },
   "outputs": [
    {
     "data": {
      "text/html": [
       "<div>\n",
       "<style scoped>\n",
       "    .dataframe tbody tr th:only-of-type {\n",
       "        vertical-align: middle;\n",
       "    }\n",
       "\n",
       "    .dataframe tbody tr th {\n",
       "        vertical-align: top;\n",
       "    }\n",
       "\n",
       "    .dataframe thead th {\n",
       "        text-align: right;\n",
       "    }\n",
       "</style>\n",
       "<table border=\"1\" class=\"dataframe\">\n",
       "  <thead>\n",
       "    <tr style=\"text-align: right;\">\n",
       "      <th></th>\n",
       "      <th>x</th>\n",
       "      <th>max</th>\n",
       "      <th>min</th>\n",
       "    </tr>\n",
       "  </thead>\n",
       "  <tbody>\n",
       "  </tbody>\n",
       "</table>\n",
       "</div>"
      ],
      "text/plain": [
       "Empty DataFrame\n",
       "Columns: [x, max, min]\n",
       "Index: []"
      ]
     },
     "execution_count": 42,
     "metadata": {},
     "output_type": "execute_result"
    }
   ],
   "source": [
    "# checking for duplicates\n",
    "data[data.duplicated()]"
   ]
  },
  {
   "cell_type": "code",
   "execution_count": null,
   "id": "3ec942b0-a021-42b3-8601-6ab870a6cfe1",
   "metadata": {},
   "outputs": [],
   "source": [
    "#no duplicates so I will subtract my count by 1 values in the next function"
   ]
  },
  {
   "cell_type": "code",
   "execution_count": 67,
   "id": "1b30f80a-fe0e-4456-9d4b-2537cc07433c",
   "metadata": {
    "execution": {
     "iopub.execute_input": "2023-11-09T15:38:22.361344Z",
     "iopub.status.busy": "2023-11-09T15:38:22.359555Z",
     "iopub.status.idle": "2023-11-09T15:38:22.382991Z",
     "shell.execute_reply": "2023-11-09T15:38:22.380898Z",
     "shell.execute_reply.started": "2023-11-09T15:38:22.361262Z"
    },
    "tags": []
   },
   "outputs": [],
   "source": [
    "# creating my list of \n",
    "# I used this resource to make the function: https://www.geeksforgeeks.org/python-numbers-list-within-given-range/\n",
    "\n",
    "def count_values_in_range(df):\n",
    "    #creating my list of range from the df\n",
    "    ranges = [(l, r) for l, r in zip(df['min'], df['max'])]\n",
    "    \n",
    "    #extracting x col as a list\n",
    "    coordinates = df['x'].tolist()\n",
    "    \n",
    "    count_range = lambda l, r: sum(l <= x <= r for x in coordinates) - 1 # this function will count the elements in my list of coordinates within a given range\n",
    "    ranges_count_dict = [{'range': f'({l}, {r})', 'count': count_range(l, r)} for l, r in ranges]\n",
    "    ranges_df = pd.DataFrame(ranges_count_dict)\n",
    "    \n",
    "    ranges_df['x'] = coordinates\n",
    "    ranges_df = ranges_df.drop('range', axis=1)\n",
    "    return ranges_df\n"
   ]
  },
  {
   "cell_type": "code",
   "execution_count": 70,
   "id": "4e39e4e0-eb76-4ac7-bdac-d34502bb92f2",
   "metadata": {
    "execution": {
     "iopub.execute_input": "2023-11-09T15:39:09.627311Z",
     "iopub.status.busy": "2023-11-09T15:39:09.626385Z",
     "iopub.status.idle": "2023-11-09T15:39:09.679969Z",
     "shell.execute_reply": "2023-11-09T15:39:09.679631Z",
     "shell.execute_reply.started": "2023-11-09T15:39:09.627249Z"
    },
    "tags": []
   },
   "outputs": [
    {
     "data": {
      "text/html": [
       "<div>\n",
       "<style scoped>\n",
       "    .dataframe tbody tr th:only-of-type {\n",
       "        vertical-align: middle;\n",
       "    }\n",
       "\n",
       "    .dataframe tbody tr th {\n",
       "        vertical-align: top;\n",
       "    }\n",
       "\n",
       "    .dataframe thead th {\n",
       "        text-align: right;\n",
       "    }\n",
       "</style>\n",
       "<table border=\"1\" class=\"dataframe\">\n",
       "  <thead>\n",
       "    <tr style=\"text-align: right;\">\n",
       "      <th></th>\n",
       "      <th>count</th>\n",
       "      <th>x</th>\n",
       "    </tr>\n",
       "  </thead>\n",
       "  <tbody>\n",
       "    <tr>\n",
       "      <th>0</th>\n",
       "      <td>57</td>\n",
       "      <td>28.026608</td>\n",
       "    </tr>\n",
       "    <tr>\n",
       "      <th>1</th>\n",
       "      <td>247</td>\n",
       "      <td>1014.883103</td>\n",
       "    </tr>\n",
       "    <tr>\n",
       "      <th>2</th>\n",
       "      <td>34</td>\n",
       "      <td>13.928090</td>\n",
       "    </tr>\n",
       "    <tr>\n",
       "      <th>3</th>\n",
       "      <td>43</td>\n",
       "      <td>9.229389</td>\n",
       "    </tr>\n",
       "    <tr>\n",
       "      <th>4</th>\n",
       "      <td>138</td>\n",
       "      <td>1019.805279</td>\n",
       "    </tr>\n",
       "  </tbody>\n",
       "</table>\n",
       "</div>"
      ],
      "text/plain": [
       "   count            x\n",
       "0     57    28.026608\n",
       "1    247  1014.883103\n",
       "2     34    13.928090\n",
       "3     43     9.229389\n",
       "4    138  1019.805279"
      ]
     },
     "execution_count": 70,
     "metadata": {},
     "output_type": "execute_result"
    }
   ],
   "source": [
    "counts = count_values_in_range(data)\n",
    "counts.head()"
   ]
  },
  {
   "cell_type": "code",
   "execution_count": 122,
   "id": "fa6eb02d-c305-4366-b5b9-ddddff16a5c3",
   "metadata": {
    "execution": {
     "iopub.execute_input": "2023-11-09T15:55:37.313720Z",
     "iopub.status.busy": "2023-11-09T15:55:37.312536Z",
     "iopub.status.idle": "2023-11-09T15:55:37.324912Z",
     "shell.execute_reply": "2023-11-09T15:55:37.324088Z",
     "shell.execute_reply.started": "2023-11-09T15:55:37.313663Z"
    },
    "tags": []
   },
   "outputs": [],
   "source": [
    "def bootstrap(df, n_sample, n_reps):\n",
    "    min_n_sample = 2\n",
    "    max_n_sample = len(df) - 10 # I set up this maximum n_sample (from looking at the plot distribution) because otherwise the boostrap doesn't make sense anymore as it samples almost all the values and will give the same mean or at least it becomes skewed.\n",
    "    \n",
    "    if not (min_n_sample <= n_sample <= max_n_sample):\n",
    "        raise ValueError(f\"the number of sample is not between {min_n_sample} and {max_n_sample}\")\n",
    "    bootstrap_replicates = [sum(random.sample(df['count'].tolist(), n_sample)) / n_sample for _ in range(n_reps)]\n",
    "\n",
    "    return bootstrap_replicates\n",
    "    "
   ]
  },
  {
   "cell_type": "code",
   "execution_count": null,
   "id": "7e585f95-b496-4b5c-9099-8a478390f4e4",
   "metadata": {},
   "outputs": [],
   "source": [
    "#Let's look at a couple of examples"
   ]
  },
  {
   "cell_type": "code",
   "execution_count": 206,
   "id": "591cfb2c-c202-4362-aecc-118cbc97ff55",
   "metadata": {
    "execution": {
     "iopub.execute_input": "2023-11-09T16:43:29.788004Z",
     "iopub.status.busy": "2023-11-09T16:43:29.787335Z",
     "iopub.status.idle": "2023-11-09T16:43:29.928279Z",
     "shell.execute_reply": "2023-11-09T16:43:29.927712Z",
     "shell.execute_reply.started": "2023-11-09T16:43:29.787960Z"
    },
    "tags": []
   },
   "outputs": [
    {
     "data": {
      "text/plain": [
       "(array([ 1.,  0.,  2.,  0.,  2.,  3.,  8.,  7., 10.,  8., 22., 29., 39.,\n",
       "        42., 34., 50., 59., 60., 50., 69., 60., 64., 75., 57., 52., 51.,\n",
       "        40., 23., 25., 23.,  7., 10.,  6.,  3.,  3.,  3.,  2.,  0.,  0.,\n",
       "         1.]),\n",
       " array([126.74   , 128.21025, 129.6805 , 131.15075, 132.621  , 134.09125,\n",
       "        135.5615 , 137.03175, 138.502  , 139.97225, 141.4425 , 142.91275,\n",
       "        144.383  , 145.85325, 147.3235 , 148.79375, 150.264  , 151.73425,\n",
       "        153.2045 , 154.67475, 156.145  , 157.61525, 159.0855 , 160.55575,\n",
       "        162.026  , 163.49625, 164.9665 , 166.43675, 167.907  , 169.37725,\n",
       "        170.8475 , 172.31775, 173.788  , 175.25825, 176.7285 , 178.19875,\n",
       "        179.669  , 181.13925, 182.6095 , 184.07975, 185.55   ]),\n",
       " <BarContainer object of 40 artists>)"
      ]
     },
     "execution_count": 206,
     "metadata": {},
     "output_type": "execute_result"
    },
    {
     "data": {
      "image/png": "[encoded data removed]",
      "text/plain": [
       "<Figure size 640x480 with 1 Axes>"
      ]
     },
     "metadata": {},
     "output_type": "display_data"
    }
   ],
   "source": [
    "bootstrap_large =bootstrap(counts, 100, 1000)\n",
    "plt.hist(bootstrap_large, bins=40)"
   ]
  },
  {
   "cell_type": "code",
   "execution_count": null,
   "id": "d7acb637-3bc5-449d-b1d8-c3ecd85013b1",
   "metadata": {
    "tags": []
   },
   "outputs": [],
   "source": []
  },
  {
   "cell_type": "code",
   "execution_count": 128,
   "id": "a7aca34c-e545-4b2f-98bc-ae76eb259f08",
   "metadata": {
    "execution": {
     "iopub.execute_input": "2023-11-09T15:56:55.127415Z",
     "iopub.status.busy": "2023-11-09T15:56:55.126804Z",
     "iopub.status.idle": "2023-11-09T15:56:55.227105Z",
     "shell.execute_reply": "2023-11-09T15:56:55.226490Z",
     "shell.execute_reply.started": "2023-11-09T15:56:55.127385Z"
    }
   },
   "outputs": [
    {
     "data": {
      "text/plain": [
       "(array([ 3., 13., 19., 12.,  2.,  1.,  5., 16., 22., 21.,  9., 18., 33.,\n",
       "        52., 62., 34., 15., 10., 13., 33., 41., 35., 39., 42., 36., 55.,\n",
       "        82., 36., 19., 10., 17., 17., 32., 30., 18., 26., 14., 21., 32.,\n",
       "         5.]),\n",
       " array([ 36.33333333,  41.93333333,  47.53333333,  53.13333333,\n",
       "         58.73333333,  64.33333333,  69.93333333,  75.53333333,\n",
       "         81.13333333,  86.73333333,  92.33333333,  97.93333333,\n",
       "        103.53333333, 109.13333333, 114.73333333, 120.33333333,\n",
       "        125.93333333, 131.53333333, 137.13333333, 142.73333333,\n",
       "        148.33333333, 153.93333333, 159.53333333, 165.13333333,\n",
       "        170.73333333, 176.33333333, 181.93333333, 187.53333333,\n",
       "        193.13333333, 198.73333333, 204.33333333, 209.93333333,\n",
       "        215.53333333, 221.13333333, 226.73333333, 232.33333333,\n",
       "        237.93333333, 243.53333333, 249.13333333, 254.73333333,\n",
       "        260.33333333]),\n",
       " <BarContainer object of 40 artists>)"
      ]
     },
     "execution_count": 128,
     "metadata": {},
     "output_type": "execute_result"
    },
    {
     "data": {
      "image/png": "[encoded data removed]",
      "text/plain": [
       "<Figure size 640x480 with 1 Axes>"
      ]
     },
     "metadata": {},
     "output_type": "display_data"
    }
   ],
   "source": [
    "bootstrap_small =bootstrap(counts, 3, 1000)\n",
    "plt.hist(bootstrap_small, bins=40)"
   ]
  },
  {
   "cell_type": "code",
   "execution_count": 170,
   "id": "82efd62b-cf7f-4528-99a6-1531c0f82731",
   "metadata": {
    "execution": {
     "iopub.execute_input": "2023-11-09T16:32:42.020261Z",
     "iopub.status.busy": "2023-11-09T16:32:42.017470Z",
     "iopub.status.idle": "2023-11-09T16:32:42.028855Z",
     "shell.execute_reply": "2023-11-09T16:32:42.028324Z",
     "shell.execute_reply.started": "2023-11-09T16:32:42.020189Z"
    },
    "tags": []
   },
   "outputs": [
    {
     "data": {
      "text/plain": [
       "ShapiroResult(statistic=0.9973843097686768, pvalue=0.10754899680614471)"
      ]
     },
     "execution_count": 170,
     "metadata": {},
     "output_type": "execute_result"
    }
   ],
   "source": [
    "# https://docs.scipy.org/doc/scipy/reference/generated/scipy.stats.shapiro.html\n",
    "# resource that helped me decided on the normality test: https://towardsdatascience.com/choose-the-appropriate-normality-test-d53146ca1f1c#:~:text=Shapiro%2DWilk%20test%2C%20Kolmogorov%E2%80%93,D'Agostino%2DPearson's%20K%C2%B2%20test&text=Normal%20distribution%2C%20also%20known%20as,mean%20and%20the%20standard%20deviation. \n",
    "\n",
    "stats.shapiro(bootstrap_large)\n"
   ]
  },
  {
   "cell_type": "code",
   "execution_count": 135,
   "id": "b2564288-538e-41f4-8870-a2597900c379",
   "metadata": {
    "execution": {
     "iopub.execute_input": "2023-11-09T16:00:09.908034Z",
     "iopub.status.busy": "2023-11-09T16:00:09.907028Z",
     "iopub.status.idle": "2023-11-09T16:00:09.921759Z",
     "shell.execute_reply": "2023-11-09T16:00:09.921018Z",
     "shell.execute_reply.started": "2023-11-09T16:00:09.907971Z"
    }
   },
   "outputs": [
    {
     "data": {
      "text/plain": [
       "ShapiroResult(statistic=0.9790865778923035, pvalue=8.414580837667884e-11)"
      ]
     },
     "execution_count": 135,
     "metadata": {},
     "output_type": "execute_result"
    }
   ],
   "source": [
    "stats.shapiro(bootstrap_small)"
   ]
  },
  {
   "cell_type": "markdown",
   "id": "5155fd32-26de-4458-905c-ab4a2e8c546e",
   "metadata": {
    "execution": {
     "iopub.execute_input": "2023-11-09T16:01:13.234000Z",
     "iopub.status.busy": "2023-11-09T16:01:13.232650Z",
     "iopub.status.idle": "2023-11-09T16:01:13.251620Z",
     "shell.execute_reply": "2023-11-09T16:01:13.250748Z",
     "shell.execute_reply.started": "2023-11-09T16:01:13.233919Z"
    }
   },
   "source": [
    "From the shapiro-wilk test, we see that when we use a small sample size, the test rejects our normality hypothesis, while in a large sample, it does not reject the normality hypothesis, so we consider the bootstrap distribution normal."
   ]
  },
  {
   "cell_type": "code",
   "execution_count": 184,
   "id": "5028de23-79fa-4390-8193-ef0d9b42cde6",
   "metadata": {
    "execution": {
     "iopub.execute_input": "2023-11-09T16:37:13.334619Z",
     "iopub.status.busy": "2023-11-09T16:37:13.333516Z",
     "iopub.status.idle": "2023-11-09T16:37:13.342938Z",
     "shell.execute_reply": "2023-11-09T16:37:13.342422Z",
     "shell.execute_reply.started": "2023-11-09T16:37:13.334568Z"
    },
    "tags": []
   },
   "outputs": [],
   "source": [
    "#The next step is to create my p-value plot against sample size for 1000 replicates and a n_sample range between 2 and 100\n",
    "def SW_bootstrap(df):\n",
    "    n_sample_range = range(2,100)\n",
    "    n_reps = 1000\n",
    "    \n",
    "    p_vals = [stats.shapiro(bootstrap(df, x, n_reps))[1]\n",
    "              for x in n_sample_range]\n",
    "    p_vals_df = pd.DataFrame({'n_sample': n_sample_range, 'p_value': p_vals})\n",
    "    p_vals_df['log p_value'] = -np.log10(p_vals_df['p_value'])\n",
    "        \n",
    "    \n",
    "    return p_vals_df"
   ]
  },
  {
   "cell_type": "code",
   "execution_count": 185,
   "id": "927e9cb8-8b33-4f3a-be09-e231cc621289",
   "metadata": {
    "execution": {
     "iopub.execute_input": "2023-11-09T16:37:13.783870Z",
     "iopub.status.busy": "2023-11-09T16:37:13.783437Z",
     "iopub.status.idle": "2023-11-09T16:37:15.141771Z",
     "shell.execute_reply": "2023-11-09T16:37:15.141360Z",
     "shell.execute_reply.started": "2023-11-09T16:37:13.783840Z"
    },
    "tags": []
   },
   "outputs": [],
   "source": [
    "final_pval = SW_bootstrap(counts)"
   ]
  },
  {
   "cell_type": "code",
   "execution_count": 186,
   "id": "4472ac77-daaf-435f-bb1c-704b1db2b6e8",
   "metadata": {
    "execution": {
     "iopub.execute_input": "2023-11-09T16:37:15.142607Z",
     "iopub.status.busy": "2023-11-09T16:37:15.142528Z",
     "iopub.status.idle": "2023-11-09T16:37:15.147224Z",
     "shell.execute_reply": "2023-11-09T16:37:15.146988Z",
     "shell.execute_reply.started": "2023-11-09T16:37:15.142601Z"
    },
    "tags": []
   },
   "outputs": [
    {
     "data": {
      "text/html": [
       "<div>\n",
       "<style scoped>\n",
       "    .dataframe tbody tr th:only-of-type {\n",
       "        vertical-align: middle;\n",
       "    }\n",
       "\n",
       "    .dataframe tbody tr th {\n",
       "        vertical-align: top;\n",
       "    }\n",
       "\n",
       "    .dataframe thead th {\n",
       "        text-align: right;\n",
       "    }\n",
       "</style>\n",
       "<table border=\"1\" class=\"dataframe\">\n",
       "  <thead>\n",
       "    <tr style=\"text-align: right;\">\n",
       "      <th></th>\n",
       "      <th>n_sample</th>\n",
       "      <th>p_value</th>\n",
       "      <th>log p_value</th>\n",
       "    </tr>\n",
       "  </thead>\n",
       "  <tbody>\n",
       "    <tr>\n",
       "      <th>0</th>\n",
       "      <td>2</td>\n",
       "      <td>3.211850e-17</td>\n",
       "      <td>16.493245</td>\n",
       "    </tr>\n",
       "    <tr>\n",
       "      <th>1</th>\n",
       "      <td>3</td>\n",
       "      <td>2.042636e-08</td>\n",
       "      <td>7.689809</td>\n",
       "    </tr>\n",
       "    <tr>\n",
       "      <th>2</th>\n",
       "      <td>4</td>\n",
       "      <td>1.579535e-04</td>\n",
       "      <td>3.801471</td>\n",
       "    </tr>\n",
       "    <tr>\n",
       "      <th>3</th>\n",
       "      <td>5</td>\n",
       "      <td>2.882994e-02</td>\n",
       "      <td>1.540156</td>\n",
       "    </tr>\n",
       "    <tr>\n",
       "      <th>4</th>\n",
       "      <td>6</td>\n",
       "      <td>2.805316e-01</td>\n",
       "      <td>0.552018</td>\n",
       "    </tr>\n",
       "    <tr>\n",
       "      <th>...</th>\n",
       "      <td>...</td>\n",
       "      <td>...</td>\n",
       "      <td>...</td>\n",
       "    </tr>\n",
       "    <tr>\n",
       "      <th>93</th>\n",
       "      <td>95</td>\n",
       "      <td>1.752570e-01</td>\n",
       "      <td>0.756325</td>\n",
       "    </tr>\n",
       "    <tr>\n",
       "      <th>94</th>\n",
       "      <td>96</td>\n",
       "      <td>1.914223e-01</td>\n",
       "      <td>0.718007</td>\n",
       "    </tr>\n",
       "    <tr>\n",
       "      <th>95</th>\n",
       "      <td>97</td>\n",
       "      <td>4.307809e-01</td>\n",
       "      <td>0.365744</td>\n",
       "    </tr>\n",
       "    <tr>\n",
       "      <th>96</th>\n",
       "      <td>98</td>\n",
       "      <td>9.702017e-01</td>\n",
       "      <td>0.013138</td>\n",
       "    </tr>\n",
       "    <tr>\n",
       "      <th>97</th>\n",
       "      <td>99</td>\n",
       "      <td>9.767554e-01</td>\n",
       "      <td>0.010214</td>\n",
       "    </tr>\n",
       "  </tbody>\n",
       "</table>\n",
       "<p>98 rows × 3 columns</p>\n",
       "</div>"
      ],
      "text/plain": [
       "    n_sample       p_value  log p_value\n",
       "0          2  3.211850e-17    16.493245\n",
       "1          3  2.042636e-08     7.689809\n",
       "2          4  1.579535e-04     3.801471\n",
       "3          5  2.882994e-02     1.540156\n",
       "4          6  2.805316e-01     0.552018\n",
       "..       ...           ...          ...\n",
       "93        95  1.752570e-01     0.756325\n",
       "94        96  1.914223e-01     0.718007\n",
       "95        97  4.307809e-01     0.365744\n",
       "96        98  9.702017e-01     0.013138\n",
       "97        99  9.767554e-01     0.010214\n",
       "\n",
       "[98 rows x 3 columns]"
      ]
     },
     "execution_count": 186,
     "metadata": {},
     "output_type": "execute_result"
    }
   ],
   "source": [
    "final_pval "
   ]
  },
  {
   "cell_type": "code",
   "execution_count": 192,
   "id": "f3279f2d-b7b7-479d-8490-59094cf4494e",
   "metadata": {
    "execution": {
     "iopub.execute_input": "2023-11-09T16:39:27.317513Z",
     "iopub.status.busy": "2023-11-09T16:39:27.316593Z",
     "iopub.status.idle": "2023-11-09T16:39:27.408797Z",
     "shell.execute_reply": "2023-11-09T16:39:27.408190Z",
     "shell.execute_reply.started": "2023-11-09T16:39:27.317462Z"
    },
    "tags": []
   },
   "outputs": [
    {
     "data": {
      "text/plain": [
       "<matplotlib.lines.Line2D at 0x17d9f5b50>"
      ]
     },
     "execution_count": 192,
     "metadata": {},
     "output_type": "execute_result"
    },
    {
     "data": {
      "image/png": "[encoded data removed]",
      "text/plain": [
       "<Figure size 640x480 with 1 Axes>"
      ]
     },
     "metadata": {},
     "output_type": "display_data"
    }
   ],
   "source": [
    "plt.plot(final_pval['log p_value'],final_pval['n_sample'])\n",
    "plt.axvline(x=-np.log10(0.05), color='r', linestyle='--', label=f'Threshold: {-np.log10(0.05)}')\n"
   ]
  },
  {
   "cell_type": "code",
   "execution_count": 210,
   "id": "87d38640-901c-45c4-b1fc-14819b5e7187",
   "metadata": {
    "execution": {
     "iopub.execute_input": "2023-11-09T16:47:05.559642Z",
     "iopub.status.busy": "2023-11-09T16:47:05.558849Z",
     "iopub.status.idle": "2023-11-09T16:47:05.571364Z",
     "shell.execute_reply": "2023-11-09T16:47:05.570128Z",
     "shell.execute_reply.started": "2023-11-09T16:47:05.559579Z"
    },
    "tags": []
   },
   "outputs": [
    {
     "data": {
      "text/html": [
       "<div>\n",
       "<style scoped>\n",
       "    .dataframe tbody tr th:only-of-type {\n",
       "        vertical-align: middle;\n",
       "    }\n",
       "\n",
       "    .dataframe tbody tr th {\n",
       "        vertical-align: top;\n",
       "    }\n",
       "\n",
       "    .dataframe thead th {\n",
       "        text-align: right;\n",
       "    }\n",
       "</style>\n",
       "<table border=\"1\" class=\"dataframe\">\n",
       "  <thead>\n",
       "    <tr style=\"text-align: right;\">\n",
       "      <th></th>\n",
       "      <th>n_sample</th>\n",
       "      <th>p_value</th>\n",
       "      <th>log p_value</th>\n",
       "    </tr>\n",
       "  </thead>\n",
       "  <tbody>\n",
       "    <tr>\n",
       "      <th>4</th>\n",
       "      <td>6</td>\n",
       "      <td>0.280532</td>\n",
       "      <td>0.552018</td>\n",
       "    </tr>\n",
       "  </tbody>\n",
       "</table>\n",
       "</div>"
      ],
      "text/plain": [
       "   n_sample   p_value  log p_value\n",
       "4         6  0.280532     0.552018"
      ]
     },
     "execution_count": 210,
     "metadata": {},
     "output_type": "execute_result"
    }
   ],
   "source": [
    "#smallest number with a p-value threshold of 0.05\n",
    "final_pval[final_pval['p_value'] >= 0.05].sort_values(by='n_sample').head(1)"
   ]
  },
  {
   "cell_type": "code",
   "execution_count": 209,
   "id": "b43d0606-6e8e-4a13-8bc9-49b41b663f76",
   "metadata": {
    "execution": {
     "iopub.execute_input": "2023-11-09T16:47:03.569506Z",
     "iopub.status.busy": "2023-11-09T16:47:03.568346Z",
     "iopub.status.idle": "2023-11-09T16:47:03.603803Z",
     "shell.execute_reply": "2023-11-09T16:47:03.602160Z",
     "shell.execute_reply.started": "2023-11-09T16:47:03.569446Z"
    },
    "tags": []
   },
   "outputs": [
    {
     "data": {
      "text/html": [
       "<div>\n",
       "<style scoped>\n",
       "    .dataframe tbody tr th:only-of-type {\n",
       "        vertical-align: middle;\n",
       "    }\n",
       "\n",
       "    .dataframe tbody tr th {\n",
       "        vertical-align: top;\n",
       "    }\n",
       "\n",
       "    .dataframe thead th {\n",
       "        text-align: right;\n",
       "    }\n",
       "</style>\n",
       "<table border=\"1\" class=\"dataframe\">\n",
       "  <thead>\n",
       "    <tr style=\"text-align: right;\">\n",
       "      <th></th>\n",
       "      <th>n_sample</th>\n",
       "      <th>p_value</th>\n",
       "      <th>log p_value</th>\n",
       "    </tr>\n",
       "  </thead>\n",
       "  <tbody>\n",
       "    <tr>\n",
       "      <th>3</th>\n",
       "      <td>5</td>\n",
       "      <td>0.02883</td>\n",
       "      <td>1.540156</td>\n",
       "    </tr>\n",
       "  </tbody>\n",
       "</table>\n",
       "</div>"
      ],
      "text/plain": [
       "   n_sample  p_value  log p_value\n",
       "3         5  0.02883     1.540156"
      ]
     },
     "execution_count": 209,
     "metadata": {},
     "output_type": "execute_result"
    }
   ],
   "source": [
    "#smallest number with a p-value threshold of 0.01\n",
    "final_pval[final_pval['p_value'] >= 0.01].sort_values(by='n_sample').head(1)"
   ]
  },
  {
   "cell_type": "markdown",
   "id": "6a8f3dc9-2b09-4618-b8a1-351c66ff594a",
   "metadata": {},
   "source": [
    "## Conclusion\n",
    "### Depending on the p_value threshold the minimum number of samples to use to calcualte the average count of neighbors in a radius of 5 for the given coordinate is 6 (p-value > 0.05) or 5 (p-value > 0.01)"
   ]
  },
  {
   "cell_type": "code",
   "execution_count": 222,
   "id": "dcc7e2c5-bde4-4586-af56-c4425b769a41",
   "metadata": {
    "execution": {
     "iopub.execute_input": "2023-11-09T17:40:28.428998Z",
     "iopub.status.busy": "2023-11-09T17:40:28.428308Z",
     "iopub.status.idle": "2023-11-09T17:40:28.441363Z",
     "shell.execute_reply": "2023-11-09T17:40:28.440841Z",
     "shell.execute_reply.started": "2023-11-09T17:40:28.428949Z"
    },
    "tags": []
   },
   "outputs": [
    {
     "data": {
      "text/html": [
       "<div>\n",
       "<style scoped>\n",
       "    .dataframe tbody tr th:only-of-type {\n",
       "        vertical-align: middle;\n",
       "    }\n",
       "\n",
       "    .dataframe tbody tr th {\n",
       "        vertical-align: top;\n",
       "    }\n",
       "\n",
       "    .dataframe thead th {\n",
       "        text-align: right;\n",
       "    }\n",
       "</style>\n",
       "<table border=\"1\" class=\"dataframe\">\n",
       "  <thead>\n",
       "    <tr style=\"text-align: right;\">\n",
       "      <th></th>\n",
       "      <th>n_sample</th>\n",
       "      <th>p_value</th>\n",
       "      <th>log p_value</th>\n",
       "    </tr>\n",
       "  </thead>\n",
       "  <tbody>\n",
       "    <tr>\n",
       "      <th>4</th>\n",
       "      <td>6</td>\n",
       "      <td>0.280532</td>\n",
       "      <td>0.552018</td>\n",
       "    </tr>\n",
       "  </tbody>\n",
       "</table>\n",
       "</div>"
      ],
      "text/plain": [
       "   n_sample   p_value  log p_value\n",
       "4         6  0.280532     0.552018"
      ]
     },
     "execution_count": 222,
     "metadata": {},
     "output_type": "execute_result"
    }
   ],
   "source": [
    "final_pval[final_pval['p_value'] >= 0.05].sort_values(by='n_sample').head(1)"
   ]
  },
  {
   "cell_type": "markdown",
   "id": "486ee229-ec2c-404a-8435-83ad604355e5",
   "metadata": {},
   "source": [
    "#### Notes: I created an app to explore the change in distribution and created the p-value by sample size but there is a problem with the plot, it is not supposed to change when changing sample size in the app. I tried to set up a random seed but it does not seem to work I did not have time to fixe this problem."
   ]
  },
  {
   "cell_type": "code",
   "execution_count": null,
   "id": "4bccacae-3fb8-4cb1-a1f4-91bcbbb29d1e",
   "metadata": {},
   "outputs": [],
   "source": []
  }
 ],
 "metadata": {
  "kernelspec": {
   "display_name": "Python 3 (ipykernel)",
   "language": "python",
   "name": "python3"
  },
  "language_info": {
   "codemirror_mode": {
    "name": "ipython",
    "version": 3
   },
   "file_extension": ".py",
   "mimetype": "text/x-python",
   "name": "python",
   "nbconvert_exporter": "python",
   "pygments_lexer": "ipython3",
   "version": "3.11.1"
  }
 },
 "nbformat": 4,
 "nbformat_minor": 5
}
